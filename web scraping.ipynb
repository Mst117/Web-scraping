{
 "cells": [
  {
   "cell_type": "code",
   "execution_count": 5,
   "metadata": {
    "pycharm": {
     "name": "#%%\n"
    }
   },
   "outputs": [
    {
     "name": "stdout",
     "output_type": "stream",
     "text": [
      "Scraping page: 1\n",
      "Scraping page: 2\n",
      "Scraping page: 3\n",
      "Scraping page: 4\n",
      "Scraping page: 5\n",
      "Scraping page: 6\n",
      "Scraping page: 7\n",
      "Scraping page: 8\n",
      "Scraping page: 9\n",
      "Scraping page: 10\n",
      "Scraping page: 11\n",
      "Scraping page: 12\n",
      "Scraping page: 13\n",
      "Scraping page: 14\n",
      "Scraping page: 15\n"
     ]
    }
   ],
   "source": [
    "import requests\n",
    "import os, os.path\n",
    "from bs4 import BeautifulSoup\n",
    "from urllib.parse import urljoin, urlparse\n",
    "\n",
    "store = 'images'\n",
    "if not os.path.exists(store):\n",
    "    os.makedirs(store)\n",
    "url = 'https://www.google.com/search?hl=en&tbm=isch&sxsrf=ACYBGNTik5pJUXJ9HtnVHbz6CiR86xtg2w%3A1567855781738&source=hp&biw=1536&bih=731&ei=pZRzXZ66KoWjwAKe6IrQBA&q=cityscape&oq=city&gs_l=img.1.0.35i39l2j0l8.912.2283..5375...0.0..0.228.890.2-4......0....1..gws-wiz-img.sUgxnLEkOhE'\n",
    "pages_to_crawl = 15\n",
    "def download(url):\n",
    "    r = requests.get(url, stream=True)\n",
    "    filename = urlparse(url).path.split('/')[-1]\n",
    "    print('Downloading to:', filename)\n",
    "    with open(os.path.join(store, filename), 'wb') as the_image:\n",
    "        for byte_chunk in r.iter_content(chunk_size=4096*4):\n",
    "            the_image.write(byte_chunk)\n",
    "for p in range(1, pages_to_crawl+1):\n",
    "    print('Scraping page:', p)\n",
    "    r = requests.get(url, params={'p' : p})\n",
    "    html_soup = BeautifulSoup(r.text, 'html.parser')\n",
    "    for img in html_soup.select('#rg'):\n",
    "        img_src = img.get('src')\n",
    "        if not img_src:\n",
    "            continue\n",
    "        img_url = urljoin(url, img_src)\n",
    "        download(img_url)\n"
   ]
  },
  {
   "cell_type": "code",
   "execution_count": null,
   "metadata": {},
   "outputs": [],
   "source": []
  }
 ],
 "metadata": {
  "kernelspec": {
   "display_name": "Python 3",
   "language": "python",
   "name": "python3"
  },
  "language_info": {
   "codemirror_mode": {
    "name": "ipython",
    "version": 3
   },
   "file_extension": ".py",
   "mimetype": "text/x-python",
   "name": "python",
   "nbconvert_exporter": "python",
   "pygments_lexer": "ipython3",
   "version": "3.7.3"
  },
  "pycharm": {
   "stem_cell": {
    "cell_type": "raw",
    "metadata": {
     "collapsed": false
    },
    "source": []
   }
  }
 },
 "nbformat": 4,
 "nbformat_minor": 2
}
